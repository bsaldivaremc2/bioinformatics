{
 "cells": [
  {
   "cell_type": "markdown",
   "metadata": {},
   "source": [
    "# Global Alignment with gap penalty  \n",
    "This will show how to get only one way back for the alingment of all possible with the same score  \n",
    "Probable update this later\n",
    "First import libraries   "
   ]
  },
  {
   "cell_type": "code",
   "execution_count": 1,
   "metadata": {},
   "outputs": [],
   "source": [
    "import numpy as np\n",
    "import matplotlib.pyplot as plt\n",
    "\n"
   ]
  },
  {
   "cell_type": "markdown",
   "metadata": {},
   "source": [
    "Define possible amino acid letters"
   ]
  },
  {
   "cell_type": "code",
   "execution_count": 2,
   "metadata": {},
   "outputs": [
    {
     "name": "stdout",
     "output_type": "stream",
     "text": [
      "['A', 'R', 'N', 'D', 'C', 'Q', 'E', 'G', 'H', 'I', 'L', 'K', 'M', 'F', 'P', 'S', 'T', 'W', 'Y', 'V', 'B', 'Z']\n"
     ]
    }
   ],
   "source": [
    "aa=\" alanine - ala - A (gif, interactive);arginine - arg - R (gif, interactive);asparagine - asn - N (gif, interactive);\"\n",
    "aa+=\"aspartic acid - asp - D (gif, interactive);cysteine - cys - C (gif, interactive);glutamine - gln - Q (gif, interactive);\"\n",
    "aa+=\"glutamic acid - glu - E (gif, interactive);glycine - gly - G (gif, interactive);histidine - his - H (gif, interactive);\"\n",
    "aa+=\"isoleucine - ile - I (gif, interactive);leucine - leu - L (gif, interactive);lysine - lys - K (gif, interactive);\"\n",
    "aa+=\"methionine - met - M (gif, interactive);phenylalanine - phe - F (gif, interactive);proline - pro - P (gif, interactive);\"\n",
    "aa+=\"serine - ser - S (gif, interactive);threonine - thr - T (gif, interactive);tryptophan - trp - W (gif, interactive);\"\n",
    "aa+=\"tyrosine - tyr - Y (gif, interactive);valine - val - V (gif, interactive)\"\n",
    "\n",
    "aas = [ _.split(' - ')[-1] for _ in [ _.split(\" (\")[0] for _ in aa.split(\";\")]]\n",
    "aas.append(\"B\")\n",
    "aas.append(\"Z\")\n",
    "print(aas)\n",
    "total_aas  = len(aas)"
   ]
  },
  {
   "cell_type": "markdown",
   "metadata": {},
   "source": [
    "Generate some random sequences"
   ]
  },
  {
   "cell_type": "code",
   "execution_count": 3,
   "metadata": {},
   "outputs": [
    {
     "name": "stdout",
     "output_type": "stream",
     "text": [
      "Sequence 1:\n",
      " MPCAEPACPV \n",
      "\n",
      "Seq2:\n",
      " WLMQDVFPNCCACMEWWPCRDDMVWETGEE\n"
     ]
    }
   ],
   "source": [
    "#random_squence\n",
    "\n",
    "seq1n = 10\n",
    "seq2n = 30\n",
    "seq1 = \"\".join(np.random.choice(aas,seq1n,replace=True))\n",
    "seq2 = \"\".join(np.random.choice(aas,seq2n,replace=True))\n",
    "\n",
    "print(\"Sequence 1:\\n\",seq1,\"\\n\\nSeq2:\\n\",seq2)"
   ]
  },
  {
   "cell_type": "markdown",
   "metadata": {},
   "source": [
    "Define the penalties "
   ]
  },
  {
   "cell_type": "code",
   "execution_count": 4,
   "metadata": {},
   "outputs": [],
   "source": [
    "gap_penalty = -2\n",
    "replace_penalty = -1\n",
    "replace_well = 1"
   ]
  },
  {
   "cell_type": "markdown",
   "metadata": {},
   "source": [
    "Define our main function to get the values of the matrix, update them, and create the path graph"
   ]
  },
  {
   "cell_type": "code",
   "execution_count": 5,
   "metadata": {},
   "outputs": [],
   "source": [
    "\n",
    "def get_val(seq1,seq2,pos1,pos2,score_matrix,graph):\n",
    "    negative_inf = np.NINF\n",
    "    left_val, up_val, diag_val = negative_inf,negative_inf,negative_inf\n",
    "    if pos2>0:\n",
    "        left_val = score_matrix[pos1,pos2-1] + gap_penalty\n",
    "    if pos1>0:\n",
    "        up_val = score_matrix[pos1-1,pos2] + gap_penalty\n",
    "    if (pos2>0) and (pos1>0):\n",
    "        if seq1[pos1]==seq2[pos2]:\n",
    "            replace_val = replace_well\n",
    "        else:\n",
    "            replace_val = replace_penalty\n",
    "        diag_val = score_matrix[pos1-1,pos2-1]+replace_val\n",
    "    vals = [left_val,up_val,diag_val]\n",
    "    max_val = max(vals)\n",
    "    if left_val==max_val:\n",
    "        graph.append([[pos1,pos2-1],[pos1,pos2]])\n",
    "    if up_val==max_val:\n",
    "        graph.append([[pos1-1,pos2],[pos1,pos2]])\n",
    "    if diag_val==max_val:\n",
    "        graph.append([[pos1-1,pos2-1],[pos1,pos2]])\n",
    "    score_matrix[pos1,pos2]=max_val\n",
    "    "
   ]
  },
  {
   "cell_type": "markdown",
   "metadata": {},
   "source": [
    "Define some simple sequences for the test.  \n",
    "Create a graph variable and score_matrix to store the path graph and values of the procedure.\n",
    "We add two different characters at the beginning of each sequence to initialize the matrix with an additional\n",
    "row and column"
   ]
  },
  {
   "cell_type": "code",
   "execution_count": 6,
   "metadata": {},
   "outputs": [],
   "source": [
    "\n",
    "graph=[]\n",
    "\n",
    "seq1 = \"9TCCA\"\n",
    "seq2 = \"8TCGCA\"\n",
    "score_matrix = np.zeros((len(seq1),len(seq2))).astype(int)\n"
   ]
  },
  {
   "cell_type": "markdown",
   "metadata": {},
   "source": [
    "First get the values of the first row only"
   ]
  },
  {
   "cell_type": "code",
   "execution_count": 7,
   "metadata": {},
   "outputs": [
    {
     "data": {
      "text/plain": [
       "array([[  0,  -2,  -4,  -6,  -8, -10],\n",
       "       [  0,   0,   0,   0,   0,   0],\n",
       "       [  0,   0,   0,   0,   0,   0],\n",
       "       [  0,   0,   0,   0,   0,   0],\n",
       "       [  0,   0,   0,   0,   0,   0]])"
      ]
     },
     "execution_count": 7,
     "metadata": {},
     "output_type": "execute_result"
    }
   ],
   "source": [
    "\n",
    "for _ in range(1,len(seq2)):\n",
    "    get_val(seq1,seq2,pos1=0,pos2=_,score_matrix=score_matrix,graph=graph)\n",
    "score_matrix"
   ]
  },
  {
   "cell_type": "markdown",
   "metadata": {},
   "source": [
    "Get the values for the rest of the matrix"
   ]
  },
  {
   "cell_type": "code",
   "execution_count": 8,
   "metadata": {},
   "outputs": [
    {
     "data": {
      "text/plain": [
       "array([[  0,  -2,  -4,  -6,  -8, -10],\n",
       "       [ -2,   1,  -1,  -3,  -5,  -7],\n",
       "       [ -4,  -1,   2,   0,  -2,  -4],\n",
       "       [ -6,  -3,   0,   1,   1,  -1],\n",
       "       [ -8,  -5,  -2,  -1,   0,   2]])"
      ]
     },
     "execution_count": 8,
     "metadata": {},
     "output_type": "execute_result"
    }
   ],
   "source": [
    "for row in range(1,len(seq1)):\n",
    "    for col in range(0,len(seq2)):\n",
    "        get_val(seq1,seq2,pos1=row,pos2=col,score_matrix=score_matrix,graph=graph)\n",
    "score_matrix"
   ]
  },
  {
   "cell_type": "markdown",
   "metadata": {},
   "source": [
    "Define a function to see the result"
   ]
  },
  {
   "cell_type": "code",
   "execution_count": 9,
   "metadata": {},
   "outputs": [
    {
     "data": {
      "image/png": "[encoded data removed]",
      "text/plain": [
       "<Figure size 480x400 with 1 Axes>"
      ]
     },
     "metadata": {
      "needs_background": "light"
     },
     "output_type": "display_data"
    }
   ],
   "source": [
    "def plot_matrix(iseq1,iseq2,iscore_matrix,igraph,arrow_margin = 0.2,fig_constant=3,dpi=80):\n",
    "    h,w = iscore_matrix.shape\n",
    "    hk, wk = h*fig_constant,w*fig_constant\n",
    "    fig = plt.figure(figsize=(wk,hk),dpi=dpi)\n",
    "    plt.imshow(np.zeros_like(iscore_matrix),cmap=\"gray\");\n",
    "    for row in range(iscore_matrix.shape[0]):\n",
    "        for col in range(iscore_matrix.shape[1]):\n",
    "            plt.text(col,row,str(iscore_matrix[row,col]),color='green')\n",
    "    for pair in igraph:\n",
    "        orig,dest = pair\n",
    "        dy = (dest[0]-orig[0])*(1-arrow_margin)\n",
    "        dx = (dest[1]-orig[1])*(1-arrow_margin)\n",
    "        plt.arrow(orig[1],orig[0],dx,dy,color=\"red\",head_width=0.1)\n",
    "    row_labels_pos = np.arange(1,len(iseq1))\n",
    "    col_labels_pos = np.arange(1,len(iseq2))\n",
    "    row_labels = [_ for _ in iseq1[1:]]\n",
    "    col_labels = [_ for _ in iseq2[1:]]\n",
    "    plt.xticks(col_labels_pos,col_labels)\n",
    "    plt.yticks(row_labels_pos,row_labels)\n",
    "    plt.show()\n",
    "\n",
    "plot_matrix(seq1,seq2,score_matrix,graph,arrow_margin = 0.3,fig_constant=1,dpi=80)"
   ]
  },
  {
   "cell_type": "markdown",
   "metadata": {},
   "source": [
    "Get the return path"
   ]
  },
  {
   "cell_type": "code",
   "execution_count": 10,
   "metadata": {},
   "outputs": [
    {
     "data": {
      "image/png": "[encoded data removed]",
      "text/plain": [
       "<Figure size 480x400 with 1 Axes>"
      ]
     },
     "metadata": {
      "needs_background": "light"
     },
     "output_type": "display_data"
    },
    {
     "name": "stdout",
     "output_type": "stream",
     "text": [
      "[[[4, 5], [3, 4]], [[3, 4], [2, 3]], [[2, 3], [2, 2]], [[2, 2], [1, 1]], [[1, 1], [0, 0]]]\n"
     ]
    }
   ],
   "source": [
    "def get_return_path(iscore_matrix,igraph,max_iters=1000):\n",
    "    last_point = [iscore_matrix.shape[0]-1,iscore_matrix.shape[1]-1]\n",
    "    way_back = []\n",
    "    iterx = 0\n",
    "    while True :\n",
    "        for pair in igraph:\n",
    "            origin,dest = pair\n",
    "            if dest == last_point:\n",
    "                way_back.append([dest,origin])\n",
    "                last_point = origin\n",
    "        iterx+=1\n",
    "        if (iterx==max_iters) or (last_point == [0,0]):\n",
    "            break\n",
    "    return way_back[:]\n",
    "\n",
    "way_back = get_return_path(score_matrix,graph,max_iters=1000)\n",
    "#Visualize\n",
    "plot_matrix(seq1,seq2,score_matrix,way_back,arrow_margin = 0.3,fig_constant=1,dpi=80)\n",
    "\n",
    "#See the nodes:\n",
    "print(way_back)"
   ]
  },
  {
   "cell_type": "markdown",
   "metadata": {},
   "source": [
    "Get the alignment"
   ]
  },
  {
   "cell_type": "code",
   "execution_count": 11,
   "metadata": {},
   "outputs": [
    {
     "name": "stdout",
     "output_type": "stream",
     "text": [
      "TCGCA\n",
      "TC-CA\n"
     ]
    }
   ],
   "source": [
    "def align_seq(iseq1,iseq2,iway_back):\n",
    "    seq2o = \"\"\n",
    "    seq1o = \"\"\n",
    "    for pair in iway_back:\n",
    "        origin,dest = pair\n",
    "        x1,y1 = dest[0],dest[1]\n",
    "        x2,y2 = origin[0],origin[1]\n",
    "        dx = x2-x1\n",
    "        dy = y2-y1\n",
    "        if dx == dy:\n",
    "            seq2o = iseq2[y2]+seq2o\n",
    "            seq1o = iseq1[x2]+seq1o\n",
    "        else:\n",
    "            if dx==0:\n",
    "                seq2o = iseq2[y2]+seq2o\n",
    "                seq1o = \"-\"+seq1o\n",
    "            if dy==0:\n",
    "                seq2o = \"-\"+seq2o\n",
    "                seq1o = iseq1[x2]+seq1o\n",
    "    return seq2o+\"\\n\"+seq1o\n",
    "\n",
    "alignment = align_seq(seq1,seq2,way_back)\n",
    "print(alignment)"
   ]
  },
  {
   "cell_type": "markdown",
   "metadata": {},
   "source": [
    "# All together with a new sequence"
   ]
  },
  {
   "cell_type": "code",
   "execution_count": 12,
   "metadata": {},
   "outputs": [
    {
     "data": {
      "image/png": "[encoded data removed]",
      "text/plain": [
       "<Figure size 560x480 with 1 Axes>"
      ]
     },
     "metadata": {
      "needs_background": "light"
     },
     "output_type": "display_data"
    },
    {
     "data": {
      "image/png": "[encoded data removed]",
      "text/plain": [
       "<Figure size 560x480 with 1 Axes>"
      ]
     },
     "metadata": {
      "needs_background": "light"
     },
     "output_type": "display_data"
    },
    {
     "name": "stdout",
     "output_type": "stream",
     "text": [
      "ACTTCG\n",
      "ACTA-G\n"
     ]
    }
   ],
   "source": [
    "\n",
    "gap_penalty = -2\n",
    "replace_penalty = -1\n",
    "replace_well = 3\n",
    "\n",
    "graph=[]\n",
    "\n",
    "\n",
    "seq1 = \"8ACTAG\"\n",
    "seq2 = \"9ACTTCG\"\n",
    "score_matrix = np.zeros((len(seq1),len(seq2))).astype(int)\n",
    "for _ in range(1,len(seq2)):\n",
    "    get_val(seq1,seq2,pos1=0,pos2=_,score_matrix=score_matrix,graph=graph)\n",
    "\n",
    "for row in range(1,len(seq1)):\n",
    "    for col in range(0,len(seq2)):\n",
    "        get_val(seq1,seq2,pos1=row,pos2=col,score_matrix=score_matrix,graph=graph)\n",
    "\n",
    "plot_matrix(seq1,seq2,score_matrix,graph,arrow_margin = 0.3,fig_constant=1,dpi=80)\n",
    "way_back = get_return_path(score_matrix,graph,max_iters=1000)\n",
    "#Visualize\n",
    "plot_matrix(seq1,seq2,score_matrix,way_back,arrow_margin = 0.3,fig_constant=1,dpi=80)\n",
    "alignment = align_seq(seq1,seq2,way_back)\n",
    "print(alignment)"
   ]
  },
  {
   "cell_type": "code",
   "execution_count": null,
   "metadata": {},
   "outputs": [],
   "source": []
  }
 ],
 "metadata": {
  "kernelspec": {
   "display_name": "Python 3",
   "language": "python",
   "name": "python3"
  },
  "language_info": {
   "codemirror_mode": {
    "name": "ipython",
    "version": 3
   },
   "file_extension": ".py",
   "mimetype": "text/x-python",
   "name": "python",
   "nbconvert_exporter": "python",
   "pygments_lexer": "ipython3",
   "version": "3.7.1"
  }
 },
 "nbformat": 4,
 "nbformat_minor": 2
}
